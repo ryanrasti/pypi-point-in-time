<!DOCTYPE html>
<html>
  <head>
    <meta name="pypi:repository-version" content="1.2">
    <title>Links for import-ipynb</title>
  </head>
  <body>
    <h1>Links for import-ipynb</h1>
<a href="https://files.pythonhosted.org/packages/79/c9/9a8b87dfdc30d2155518c4b290f0e8cd03cb03cfbe593a03af19f2352803/import-ipynb-0.1.tar.gz#sha256=0de7fef151dfca23aa1e5ef1c5044d1bd157857d776eb580645936b239b9c212" >import-ipynb-0.1.tar.gz</a><br />
<a href="https://files.pythonhosted.org/packages/61/31/ac4a668ab5cb06452f71f5caa923444021ecbc7d90139e0d56acf0efb5b8/import-ipynb-0.1.1.tar.gz#sha256=69999d134bc1de70e5bdd426fcfc325c8edc79f4c9695c5f6aa7f64f229ad7bb" >import-ipynb-0.1.1.tar.gz</a><br />
<a href="https://files.pythonhosted.org/packages/64/6f/8ad43960c3ff6d3f44415bfa6dd43237307971d94e99d8c5b7f8f793a2ba/import-ipynb-0.1.2.tar.gz#sha256=a9bfd8323dd30a88b1797cb4a9befaf2149cf58a1e6467986862f26e26820a8e" >import-ipynb-0.1.2.tar.gz</a><br />
<a href="https://files.pythonhosted.org/packages/63/35/495e0021bfdcc924c7cdec4e9fbb87c88dd03b9b9b22419444dc370c8a45/import-ipynb-0.1.3.tar.gz#sha256=055d7390c26234c6fbbed9a5488840ff06313a084fd3bd83230046d11a670791" >import-ipynb-0.1.3.tar.gz</a><br />
<a href="https://files.pythonhosted.org/packages/ac/22/2e6356db42a17b4e774a47c6c23f3cd62532a29162d88c27135a3e676130/import-ipynb-0.1.4.tar.gz#sha256=dcec6ab3ea13a3a5ccefc9a9963021706af3389775e1246d1abd7cbefc0d54a6" >import-ipynb-0.1.4.tar.gz</a><br />
<a href="https://files.pythonhosted.org/packages/80/5d/a94923929ac5687d4a3b83440d1f95aaed7eea4a2b05c31d76d8f5564a89/import_ipynb-0.1.4-py3-none-any.whl#sha256=27ef4fd477fbbd89f70828c736357f991e21c06ac92b1465c7dbcf4c698fb7ab" data-dist-info-metadata="sha256=cc63b0cc8c3b23e7a8bad45a8f2cd8f9e1aed6d15101367ac1f4557e803bd6ab" data-core-metadata="sha256=cc63b0cc8c3b23e7a8bad45a8f2cd8f9e1aed6d15101367ac1f4557e803bd6ab">import_ipynb-0.1.4-py3-none-any.whl</a><br />
</body>
</html>
<!--SERIAL 13587369-->