<!DOCTYPE html>
<html>
  <head>
    <meta name="pypi:repository-version" content="1.2">
    <title>Links for pytest-ipynb</title>
  </head>
  <body>
    <h1>Links for pytest-ipynb</h1>
<a href="https://files.pythonhosted.org/packages/f7/5d/e2a3640d2e491bd48af017882fc2a66d804de8730358298735ea2c3ae84a/pytest_ipynb-1.1.0-py3-none-any.whl#sha256=59124439103ce7e177701298b90478992f29bebc97b48f26bc2a1641b6018362" data-dist-info-metadata="sha256=e5d0df8d6995b448a516aa7680661e087fb8e79d94a721f29e4e5c50fb7318c1" data-core-metadata="sha256=e5d0df8d6995b448a516aa7680661e087fb8e79d94a721f29e4e5c50fb7318c1">pytest_ipynb-1.1.0-py3-none-any.whl</a><br />
<a href="https://files.pythonhosted.org/packages/36/59/c37eb45b309a3bd7ce63871e03a291197a1dde53c4acfc413fb2b04c7a82/pytest-ipynb-1.1.1.tar.gz#sha256=fca7ab0f75475cadcf0f6c0340b60be14b0174fd79a779b9c3865440ecc32183" >pytest-ipynb-1.1.1.tar.gz</a><br />
</body>
</html>
<!--SERIAL 4756179-->