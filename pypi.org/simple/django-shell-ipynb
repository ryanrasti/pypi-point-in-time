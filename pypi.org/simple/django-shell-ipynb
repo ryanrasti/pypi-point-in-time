<!DOCTYPE html>
<html>
  <head>
    <meta name="pypi:repository-version" content="1.2">
    <title>Links for django-shell-ipynb</title>
  </head>
  <body>
    <h1>Links for django-shell-ipynb</h1>
<a href="https://files.pythonhosted.org/packages/11/be/aea5846f165877fe12ceba051090bc96a98f4e934e08c9edcf093a43f74c/django-shell-ipynb-0.1.0.tar.gz#sha256=3d7775956ee8aa7c6d38a7d6ccd12c01157c16c9c057fe8c923d3d244f3a6083" >django-shell-ipynb-0.1.0.tar.gz</a><br />
<a href="https://files.pythonhosted.org/packages/f4/0f/855db76ebc1cfe67a6687105b69c469fc32c409cb73e9ffe900aff6aeaa2/django-shell-ipynb-0.2.0.tar.gz#sha256=82b8c6cc25180fe25c7e72d7e18e2069115361a419b5602b44608fc81e34c0c7" >django-shell-ipynb-0.2.0.tar.gz</a><br />
<a href="https://files.pythonhosted.org/packages/33/90/580a59b29cebc4e911faa24f89f608350c3c1e45d3f486873de430fd5bae/django-shell-ipynb-0.3.0.tar.gz#sha256=b57e6a8b5b3eb2d93fdd84c04c012116aeee588d257345e8d91087eb57e4aa26" >django-shell-ipynb-0.3.0.tar.gz</a><br />
</body>
</html>
<!--SERIAL 1134567-->