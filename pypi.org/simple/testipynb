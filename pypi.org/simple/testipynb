<!DOCTYPE html>
<html>
  <head>
    <meta name="pypi:repository-version" content="1.2">
    <title>Links for testipynb</title>
  </head>
  <body>
    <h1>Links for testipynb</h1>
<a href="https://files.pythonhosted.org/packages/6d/ae/b8725dbb0e24ca313046e70e27aced03db30de9183c91cce8170f173f017/testipynb-0.0.1-py2.py3-none-any.whl#sha256=9e560cf81e8d9cd72c445c9e568f11f18d58f43fcc5da9c4c77236d6a96e91ad" data-dist-info-metadata="sha256=ca80a2c4452039e8f856d83a7fd4b38e090601ccb6b169ea3dd270437fb5b4a8" data-core-metadata="sha256=ca80a2c4452039e8f856d83a7fd4b38e090601ccb6b169ea3dd270437fb5b4a8">testipynb-0.0.1-py2.py3-none-any.whl</a><br />
<a href="https://files.pythonhosted.org/packages/7f/43/56d8050ac3084065d959f2ea8db4537d9002663d8e8a269ca73b5cca8330/testipynb-0.0.1.tar.gz#sha256=84c8e96d235f3f824e9b5429dcda7eeae44ae06823197fa19b04ce1af1b62ca4" >testipynb-0.0.1.tar.gz</a><br />
<a href="https://files.pythonhosted.org/packages/57/bb/9f57e1459e275084c30071ad43913ce2cad5c117c2a499c662bc03cf79a0/testipynb-0.0.2.tar.gz#sha256=8a512bfc86a3bf329fbf8fbaa435ef0702dc89893f22398ae08ec5ef89d9bbf5" >testipynb-0.0.2.tar.gz</a><br />
</body>
</html>
<!--SERIAL 4736615-->