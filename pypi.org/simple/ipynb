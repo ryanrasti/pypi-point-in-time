<!DOCTYPE html>
<html>
  <head>
    <meta name="pypi:repository-version" content="1.2">
    <title>Links for ipynb</title>
  </head>
  <body>
    <h1>Links for ipynb</h1>
<a href="https://files.pythonhosted.org/packages/af/d8/b6946c85d18245050eac898962e7569b54ea97a7dbd44e7334e84648e69f/ipynb-0.1-py2.py3-none-any.whl#sha256=cf3efc72ede82043d528958bb44566088c1971a71d56c4cae52e958f097e8744" data-dist-info-metadata="sha256=75909644465553bcc25de8541c125d711695bb4fe4bb768669c3562da39d82dd" data-core-metadata="sha256=75909644465553bcc25de8541c125d711695bb4fe4bb768669c3562da39d82dd">ipynb-0.1-py2.py3-none-any.whl</a><br />
<a href="https://files.pythonhosted.org/packages/b6/75/a33a9e762ea2eb10b722a648cb146cfc1f7c4e1e191f2a40c96d13df794c/ipynb-0.2-py3-none-any.whl#sha256=7cb71644ea0e05a43a5b4a4f7788380cf36d36b37cdf172fff0afa0c6711bddd" data-dist-info-metadata="sha256=0e8b99e4485bdb258cc6b937fd931e0231601a957665f1cee1081659fea2f8b4" data-core-metadata="sha256=0e8b99e4485bdb258cc6b937fd931e0231601a957665f1cee1081659fea2f8b4">ipynb-0.2-py3-none-any.whl</a><br />
<a href="https://files.pythonhosted.org/packages/03/76/d6902938cb81fe57d66662bbd6cc83773349b1f1da25020b9e67bf2ac8a1/ipynb-0.2.tar.gz#sha256=0ce5ff0cb1f6ab05826e7e718ed5370bcf7d79514b5f98f2f3f1be7c8362a979" >ipynb-0.2.tar.gz</a><br />
<a href="https://files.pythonhosted.org/packages/dd/e2/0a5d34e3e782dee0c35f4f2a597db54af3ea9ba88ab6f1440db9cf56b47f/ipynb-0.3-py3-none-any.whl#sha256=c4cafd2a3503b20b08be568bf3c7fa49f86212bce55749650080a0afac442dea" data-dist-info-metadata="sha256=c8e869275cc7535415264dccae8a94d479b26fef84d2306969a90352fbacba15" data-core-metadata="sha256=c8e869275cc7535415264dccae8a94d479b26fef84d2306969a90352fbacba15">ipynb-0.3-py3-none-any.whl</a><br />
<a href="https://files.pythonhosted.org/packages/f3/6f/c209a6271d08410d8404110889c87fbf787661e36fb5bf44f0aea78c4466/ipynb-0.3.tar.gz#sha256=eef1416e7a7d13c612936eb52df1cfc2bf4a2fc4a2cb30c27a81c6611b24d230" >ipynb-0.3.tar.gz</a><br />
<a href="https://files.pythonhosted.org/packages/69/64/3993d20eec61a1c8d352ba93ad574171c19574665c0cc05f0a43e654cebf/ipynb-0.4-py3-none-any.whl#sha256=05c952b3d91bd58c238818a805de6f03cfa31223aed1b9fa852b37a58b78c31f" data-dist-info-metadata="sha256=e1739dfb43284ea02bad27518e758b3be9d5f7a6d5eaae597112a89633468543" data-core-metadata="sha256=e1739dfb43284ea02bad27518e758b3be9d5f7a6d5eaae597112a89633468543">ipynb-0.4-py3-none-any.whl</a><br />
<a href="https://files.pythonhosted.org/packages/52/2e/2c64545dfb59cdd2a5ce2f1f2c30d9613cdd2af88ae25883c429d65a8f26/ipynb-0.4.tar.gz#sha256=3e72e1de9156081db7320c61e8ff6160ce7898b2a514584cf8a293df4373f65e" >ipynb-0.4.tar.gz</a><br />
<a href="https://files.pythonhosted.org/packages/31/42/4c0bbb66390e3a68e04ebf134c8d074a00c18b5882293f8ace5f7497fbf0/ipynb-0.5.1-py3-none-any.whl#sha256=9686aafce6fd58ec160fa6ba649a7810df89cc0f06a317188ac5e59fd728e325" data-dist-info-metadata="sha256=efbf1031bcca44043702bb58fb01af4616d1d69f41be94fa33ae8eda958eca1c" data-core-metadata="sha256=efbf1031bcca44043702bb58fb01af4616d1d69f41be94fa33ae8eda958eca1c">ipynb-0.5.1-py3-none-any.whl</a><br />
<a href="https://files.pythonhosted.org/packages/a9/73/fd7b6497883c180e870712216348cf0f3271b75347f75cffbf28cf633d7e/ipynb-0.5.1.tar.gz#sha256=8d834c777ca3885289938728cc382f081c86a58e92961e86f0aba60c96938ce5" >ipynb-0.5.1.tar.gz</a><br />
</body>
</html>
<!--SERIAL 3271182-->