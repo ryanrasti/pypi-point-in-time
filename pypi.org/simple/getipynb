<!DOCTYPE html>
<html>
  <head>
    <meta name="pypi:repository-version" content="1.2">
    <title>Links for getipynb</title>
  </head>
  <body>
    <h1>Links for getipynb</h1>
<a href="https://files.pythonhosted.org/packages/ef/a4/713ae05120253f483328ba846c995c6146becd9b750549e9fd33b8d022ad/getipynb-1.0-py3-none-any.whl#sha256=0ff956901b88534045915e906089fbe0dc9a284e5da712a36cd7eec86c492ab3" data-dist-info-metadata="sha256=224dff4383b0b1a1a8cb42ee4b399d438f329fe0eff4a0b76b54341507f9bf09" data-core-metadata="sha256=224dff4383b0b1a1a8cb42ee4b399d438f329fe0eff4a0b76b54341507f9bf09">getipynb-1.0-py3-none-any.whl</a><br />
<a href="https://files.pythonhosted.org/packages/4c/eb/b789b32149be0b85d12fb89667c651c5f18f2d0ba6a984c14b7d4169a6df/getipynb-1.0.tar.gz#sha256=1d3257d92dd9a7bc221ceea8d630adde2df450de273d737f0f378edc89ce47df" >getipynb-1.0.tar.gz</a><br />
</body>
</html>
<!--SERIAL 12439118-->