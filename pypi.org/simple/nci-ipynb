<!DOCTYPE html>
<html>
  <head>
    <meta name="pypi:repository-version" content="1.2">
    <title>Links for nci-ipynb</title>
  </head>
  <body>
    <h1>Links for nci-ipynb</h1>
<a href="https://files.pythonhosted.org/packages/72/f0/e2c5a251d05bb1eaed160cc79a898b8e89b394aef34684800f89bd87d724/nci_ipynb-2023.11.0.2-py3-none-any.whl#sha256=ba981d15b9700f9d2ff0940cee78d1c51b707d2c2f41a339a392f955d680ffc0" data-requires-python="&gt;=3.4" data-dist-info-metadata="sha256=fc35c2ea8122c3446a956955baca6ace0cf19d4d7b944ae323a34626fbd6c77a" data-core-metadata="sha256=fc35c2ea8122c3446a956955baca6ace0cf19d4d7b944ae323a34626fbd6c77a">nci_ipynb-2023.11.0.2-py3-none-any.whl</a><br />
<a href="https://files.pythonhosted.org/packages/e2/79/ad02a80d976d1ffb163e75845e202e2379ca0ae9ea96b2c66f723e8f4e67/nci_ipynb-2023.11.0.2.tar.gz#sha256=bfcb29325e42a922db768895f84981263c682a4c6d83e5ad62a9a2f08ffd3b7d" data-requires-python="&gt;=3.4" >nci_ipynb-2023.11.0.2.tar.gz</a><br />
<a href="https://files.pythonhosted.org/packages/97/ac/32afd602d3fd8cd001d910747c7953c37c82cb564aeddcf40f027c057a60/nci_ipynb-2023.11.0.3-py3-none-any.whl#sha256=7b4d916568308b89c7efd6bd8fc1abe601511a1c521cec7ca3b9b33019813568" data-requires-python="&gt;=3.4" data-dist-info-metadata="sha256=8a47fe6ce54ba2a93218265137e65adcdd13c4912f81908921fe89c018e3a8ac" data-core-metadata="sha256=8a47fe6ce54ba2a93218265137e65adcdd13c4912f81908921fe89c018e3a8ac">nci_ipynb-2023.11.0.3-py3-none-any.whl</a><br />
<a href="https://files.pythonhosted.org/packages/85/1b/2451e64d5f3310a7649fd9093f123f1a9604011c9baae065c7f0af72cd04/nci_ipynb-2023.11.0.3.tar.gz#sha256=656963dc1e5a6fad1e8d863e336ba7c6066250387822ddcd94e7e61b55c1e43c" data-requires-python="&gt;=3.4" >nci_ipynb-2023.11.0.3.tar.gz</a><br />
</body>
</html>
<!--SERIAL 20580743-->